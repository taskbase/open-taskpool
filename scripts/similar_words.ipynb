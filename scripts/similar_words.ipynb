{
 "cells": [
  {
   "cell_type": "markdown",
   "metadata": {
    "collapsed": false,
    "pycharm": {
     "name": "#%% md\n"
    }
   },
   "source": [
    "# Similar words generation\n",
    "\n",
    "This notebook generates german similar words based on semantic equivalence with the help of [spaCy](https://spacy.io/).\n",
    "\n",
    "**Prerequisites:** Run the Generate data notebook.\n",
    "\n",
    "**Input:** Provide a `data-import/in-words.tsv` file holding the target words.\n",
    "\n",
    "**Output:** A list of similar words stored in `data-generated/similar-words.tsv`. Should also optionally be quality controlled to improve the data set."
   ]
  },
  {
   "cell_type": "code",
   "execution_count": null,
   "metadata": {
    "pycharm": {
     "name": "#%%\n"
    }
   },
   "outputs": [],
   "source": [
    "%pip install pandas textdistance tqdm spacy"
   ]
  },
  {
   "cell_type": "code",
   "execution_count": null,
   "metadata": {
    "pycharm": {
     "name": "#%%\n"
    }
   },
   "outputs": [],
   "source": [
    "import pandas as pd\n",
    "from tqdm.notebook import tqdm\n",
    "import spacy"
   ]
  },
  {
   "cell_type": "code",
   "execution_count": null,
   "metadata": {
    "pycharm": {
     "name": "#%%\n"
    }
   },
   "outputs": [],
   "source": [
    "%%sh\n",
    "python -m spacy download de_core_news_lg"
   ]
  },
  {
   "cell_type": "code",
   "execution_count": null,
   "metadata": {
    "pycharm": {
     "name": "#%%\n"
    }
   },
   "outputs": [],
   "source": [
    "wanted_languages = [\"DE\"]\n",
    "# load the large model which also includes word embeddings\n",
    "nlp = spacy.load(\"de_core_news_lg\")\n",
    "df_words = pd.read_csv(\"data-generated/vocabulary.tsv\", sep=\"\\t\")\n",
    "counts = df_words.language.value_counts()"
   ]
  },
  {
   "cell_type": "code",
   "execution_count": null,
   "metadata": {
    "pycharm": {
     "name": "#%%\n"
    }
   },
   "outputs": [],
   "source": [
    "# map of (language, word length) -> set[word]\n",
    "words_by_lang_length = {}\n",
    "\n",
    "print(\"Loading all word embeddings for desired languages.\")\n",
    "\n",
    "# Preloading all embeddings takes some time. However, it significantly reduces time when comparing embeddings to each other\n",
    "# as we otherwise reload same words over and over again.\n",
    "for lang, grp in df_words.groupby(\"language\"):\n",
    "    if lang not in wanted_languages: continue\n",
    "\n",
    "    print(f\"Loading {lang} words\")\n",
    "\n",
    "    for word in tqdm(grp.word.astype(str)):\n",
    "        word_len = len(word)\n",
    "        if word_len < 3: continue\n",
    "        words_by_lang_length.setdefault((lang, word_len), set()).add(nlp(word))"
   ]
  },
  {
   "cell_type": "code",
   "execution_count": null,
   "metadata": {
    "pycharm": {
     "name": "#%%\n"
    }
   },
   "outputs": [],
   "source": [
    "def find_similar_words(\n",
    "        language,\n",
    "        source_word,\n",
    "        length_difference=10,\n",
    "        semantical_similarity_threshold=0.7,\n",
    "        stop_after=10,\n",
    "        debug_print=False\n",
    "):\n",
    "    similar_words = set()\n",
    "    source_len = len(source_word)\n",
    "    source_word = nlp(source_word)\n",
    "\n",
    "    for target_len in range(max(source_len - length_difference, 3), source_len + length_difference + 1):\n",
    "        candidate_words = words_by_lang_length.get((language, target_len), set())\n",
    "\n",
    "        if debug_print:\n",
    "            print(f\"checking {target_len}. Current state: {similar_words}. Threshold: {semantical_similarity_threshold}\")\n",
    "\n",
    "        for candidate_word in candidate_words:\n",
    "\n",
    "            s_raw = source_word.text\n",
    "            c_raw = candidate_word.text\n",
    "\n",
    "            # make sure we don't select the same word just with different capitalization\n",
    "            if s_raw.lower() == c_raw.lower():\n",
    "                continue\n",
    "\n",
    "            # Skip similar words which include each other\n",
    "            if s_raw.lower() in c_raw.lower() or c_raw.lower() in s_raw.lower():\n",
    "                continue\n",
    "\n",
    "            # make sure both words have the same capitalization\n",
    "            if (s_raw[0].isupper() and not c_raw[0].isupper()) or (s_raw[0].islower() and not c_raw[0].islower()):\n",
    "                continue\n",
    "\n",
    "            sw = source_word\n",
    "            cw = candidate_word\n",
    "\n",
    "            # make sure we use the same part of speech or tag\n",
    "            if sw[0].pos_ != cw[0].pos_ or sw[0].tag_ != cw[0].tag_:\n",
    "                continue\n",
    "\n",
    "            # skip same lemmas. For \"gehe\" we should not get \"gehst\" as similar word.\n",
    "            if sw[0].lemma_ == cw[0].lemma_:\n",
    "                continue\n",
    "\n",
    "            # semantical similarity check\n",
    "            if sw.similarity(cw) < semantical_similarity_threshold:\n",
    "                continue\n",
    "\n",
    "            similar_words.add(c_raw)\n",
    "\n",
    "            if 0 < stop_after <= len(similar_words):\n",
    "                return similar_words\n",
    "\n",
    "    if  len(similar_words) < stop_after and semantical_similarity_threshold > 0:\n",
    "        if debug_print:\n",
    "            print(\"Too few results, retrying and loweing threshold by -0.05\")\n",
    "\n",
    "        return find_similar_words(language,\n",
    "                                  source_word,\n",
    "                                  length_difference,\n",
    "                                  semantical_similarity_threshold=semantical_similarity_threshold-0.05,\n",
    "                                  stop_after=stop_after,\n",
    "                                  debug_print=debug_print\n",
    "                                  )\n",
    "    else:\n",
    "        return similar_words"
   ]
  },
  {
   "cell_type": "code",
   "execution_count": null,
   "metadata": {
    "pycharm": {
     "name": "#%%\n"
    }
   },
   "outputs": [],
   "source": [
    "words = pd.read_csv(\"data-import/in-words.tsv\", sep=\"\\t\").word\n",
    "\n",
    "print(f\"Finding similar words for {wanted_languages}\")\n",
    "\n",
    "results = []\n",
    "\n",
    "for source_word in tqdm(words):\n",
    "    similar_words = find_similar_words(\n",
    "        \"DE\",\n",
    "        source_word,\n",
    "        length_difference=10,\n",
    "        semantical_similarity_threshold=0.7,\n",
    "        stop_after=5,\n",
    "        debug_print=False\n",
    "    )\n",
    "    print(f\"For '{source_word}' found {similar_words}\")\n",
    "    out = {\n",
    "        \"word\": source_word,\n",
    "    }\n",
    "\n",
    "\n",
    "    for i, w in enumerate(list(similar_words)):\n",
    "        out[f\"similar_{i}\"] = w\n",
    "\n",
    "    results.append(out)\n",
    "\n",
    "df = pd.DataFrame(results)\n",
    "df.to_csv(\"data-generated/similar-words.tsv\", sep=\"\\t\", index=False)\n",
    "df"
   ]
  },
  {
   "cell_type": "code",
   "execution_count": null,
   "metadata": {
    "pycharm": {
     "name": "#%%\n"
    }
   },
   "outputs": [],
   "source": []
  }
 ],
 "metadata": {
  "kernelspec": {
   "display_name": "Python 3",
   "language": "python",
   "name": "python3"
  },
  "language_info": {
   "codemirror_mode": {
    "name": "ipython",
    "version": 2
   },
   "file_extension": ".py",
   "mimetype": "text/x-python",
   "name": "python",
   "nbconvert_exporter": "python",
   "pygments_lexer": "ipython2",
   "version": "2.7.6"
  }
 },
 "nbformat": 4,
 "nbformat_minor": 0
}