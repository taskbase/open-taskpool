{
 "cells": [
  {
   "cell_type": "code",
   "execution_count": null,
   "metadata": {
    "pycharm": {
     "name": "#%%\n"
    }
   },
   "outputs": [],
   "source": [
    "%pip install pandas"
   ]
  },
  {
   "cell_type": "code",
   "execution_count": null,
   "metadata": {
    "pycharm": {
     "name": "#%%\n"
    }
   },
   "outputs": [],
   "source": [
    "import gc\n",
    "import sqlite3\n",
    "\n",
    "import pandas as pd"
   ]
  },
  {
   "cell_type": "markdown",
   "metadata": {
    "collapsed": false,
    "pycharm": {
     "name": "#%% md\n"
    }
   },
   "source": [
    "## Save to SQL database"
   ]
  },
  {
   "cell_type": "code",
   "execution_count": null,
   "metadata": {
    "pycharm": {
     "name": "#%%\n"
    }
   },
   "outputs": [],
   "source": [
    "DB_FILE = \"../taskpool.db\"\n",
    "INIT_SQL_FILE = \"../schema.sql\"\n",
    "\n",
    "try:\n",
    "    conn.close()\n",
    "except:\n",
    "    pass\n",
    "\n",
    "# Create database\n",
    "conn = sqlite3.connect(\"../taskpool.db\")"
   ]
  },
  {
   "cell_type": "code",
   "execution_count": null,
   "metadata": {
    "pycharm": {
     "name": "#%%\n"
    }
   },
   "outputs": [],
   "source": [
    "with open(INIT_SQL_FILE, \"r\") as f:\n",
    "    conn.executescript(f.read())"
   ]
  },
  {
   "cell_type": "code",
   "execution_count": null,
   "metadata": {
    "pycharm": {
     "name": "#%%\n"
    }
   },
   "outputs": [],
   "source": [
    "print(\"Importing sentences...\")\n",
    "pd.read_csv(\"./data-generated/sentences.tsv\", sep=\"\\t\", index_col=\"id\")\\\n",
    "    .to_sql(\"sentences\", conn, if_exists=\"append\")"
   ]
  },
  {
   "cell_type": "code",
   "execution_count": null,
   "metadata": {
    "pycharm": {
     "name": "#%%\n"
    }
   },
   "outputs": [],
   "source": [
    "# Translation ID auto-increments in SQL\n",
    "print(\"Importing translations...\")\n",
    "pd.read_csv(\"./data-generated/translations.tsv\", sep=\"\\t\")\\\n",
    "    .to_sql(\"translations\", conn, index=False, if_exists=\"append\")"
   ]
  },
  {
   "cell_type": "code",
   "execution_count": null,
   "metadata": {
    "pycharm": {
     "name": "#%%\n"
    }
   },
   "outputs": [],
   "source": [
    "print(\"Importing vocabulary...\")\n",
    "pd.read_csv(\"./data-generated/vocabulary.tsv\", sep=\"\\t\", index_col=\"id\")\\\n",
    "    .to_sql(\"vocabulary\", conn, if_exists=\"append\")"
   ]
  },
  {
   "cell_type": "code",
   "execution_count": null,
   "metadata": {
    "pycharm": {
     "name": "#%%\n"
    }
   },
   "outputs": [],
   "source": [
    "print(\"Importing sentence-vocabulary...\")\n",
    "pd.read_csv(\"./data-generated/sentence-vocabulary.tsv\", sep=\"\\t\")\\\n",
    "    .to_sql(\"sentence_vocabulary\", conn, index=False, if_exists=\"append\")"
   ]
  },
  {
   "cell_type": "code",
   "execution_count": null,
   "metadata": {
    "pycharm": {
     "name": "#%%\n"
    }
   },
   "outputs": [],
   "source": [
    "print(\"Importing lemmata...\")\n",
    "pd.read_csv(\"./data-generated/lemmata.tsv\", sep=\"\\t\", index_col=\"id\")\\\n",
    "    .to_sql(\"lemmata\", conn, if_exists=\"append\")"
   ]
  },
  {
   "cell_type": "code",
   "execution_count": null,
   "metadata": {
    "pycharm": {
     "name": "#%%\n"
    }
   },
   "outputs": [],
   "source": [
    "print(\"Importing sentence-lemma...\")\n",
    "pd.read_csv(\"./data-generated/sentence-lemma.tsv\", sep=\"\\t\")\\\n",
    "    .to_sql(\"sentence_lemma\", conn, index=False, if_exists=\"append\")"
   ]
  },
  {
   "cell_type": "code",
   "execution_count": null,
   "metadata": {
    "pycharm": {
     "name": "#%%\n"
    }
   },
   "outputs": [],
   "source": [
    "gc.collect()\n"
   ]
  },
  {
   "cell_type": "code",
   "execution_count": null,
   "metadata": {
    "pycharm": {
     "name": "#%%\n"
    }
   },
   "outputs": [],
   "source": []
  }
 ],
 "metadata": {
  "kernelspec": {
   "display_name": "Python 3",
   "language": "python",
   "name": "python3"
  },
  "language_info": {
   "codemirror_mode": {
    "name": "ipython",
    "version": 2
   },
   "file_extension": ".py",
   "mimetype": "text/x-python",
   "name": "python",
   "nbconvert_exporter": "python",
   "pygments_lexer": "ipython2",
   "version": "2.7.6"
  }
 },
 "nbformat": 4,
 "nbformat_minor": 0
}
