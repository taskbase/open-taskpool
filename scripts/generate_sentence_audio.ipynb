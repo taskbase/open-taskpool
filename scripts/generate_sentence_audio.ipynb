{
 "cells": [
  {
   "cell_type": "markdown",
   "metadata": {
    "collapsed": false,
    "pycharm": {
     "name": "#%% md\n"
    }
   },
   "source": [
    "# Generate sentence audio\n",
    "This notebook uses AWS Polly text-to-speech engine to generate audio files for exercise precursors.\n",
    "\n",
    "**Prerequisites:** Run the `Generate exercise precursors` notebook.\n",
    "\n",
    "**Inputs**:\n",
    "\n",
    "- Expects a `data-import/exercise-import.tsv` file which is (an optionally manually quality controlled) version of the `data-generated/exercise-precursors.tsv` file generated\n",
    "  by the `Generate exercise precursors.ipynb` notebook.\n",
    "\n",
    "**Outputs:** Audio files in the `../audio-generated/` directory. Audio file names follow the pattern `{language}-{sentence_id}.{ext}`.\n"
   ]
  },
  {
   "cell_type": "code",
   "execution_count": null,
   "metadata": {
    "pycharm": {
     "name": "#%%\n"
    }
   },
   "outputs": [],
   "source": [
    "%pip install boto3 pandas tqdm\n",
    "%sx mkdir -p ../audio-generated"
   ]
  },
  {
   "cell_type": "code",
   "execution_count": null,
   "metadata": {
    "pycharm": {
     "name": "#%%\n"
    }
   },
   "outputs": [],
   "source": [
    "import boto3\n",
    "import pandas as pd\n",
    "from tqdm.notebook import tqdm\n",
    "\n",
    "AWS_REGION = \"eu-central-1\"\n",
    "AWS_POLLY_PROFILE = \"taskpool-polly\"\n",
    "AWS_S3_PROFILE = \"taskpool-s3\"\n",
    "WANTED_VOICES = {\n",
    "    \"DE\": \"Daniel\",\n",
    "    \"EN\": \"Matthew\",\n",
    "    \"FR\": \"Lea\",\n",
    "}"
   ]
  },
  {
   "cell_type": "markdown",
   "metadata": {
    "collapsed": false,
    "pycharm": {
     "name": "#%% md\n"
    }
   },
   "source": [
    "## Start a Polly session"
   ]
  },
  {
   "cell_type": "code",
   "execution_count": null,
   "metadata": {
    "pycharm": {
     "name": "#%%\n"
    }
   },
   "outputs": [],
   "source": [
    "boto_session = boto3.Session(region_name=AWS_REGION, profile_name=AWS_POLLY_PROFILE)\n",
    "polly = boto_session.client(\"polly\")\n",
    "\n",
    "def get_audio(filename, text, voice, language_code):\n",
    "    result = polly.synthesize_speech(Engine=\"neural\", OutputFormat=\"mp3\", Text=text, VoiceId=voice, LanguageCode=language_code)\n",
    "    with open(f\"../audio-generated/{filename}.mp3\", \"wb\") as f:\n",
    "        f.write(result[\"AudioStream\"].read())\n",
    "        result[\"AudioStream\"].close()"
   ]
  },
  {
   "cell_type": "markdown",
   "metadata": {
    "collapsed": false,
    "pycharm": {
     "name": "#%% md\n"
    }
   },
   "source": [
    "## Sample each AWS voice"
   ]
  },
  {
   "cell_type": "code",
   "execution_count": null,
   "metadata": {
    "pycharm": {
     "name": "#%%\n"
    }
   },
   "outputs": [],
   "source": [
    "wanted_language_codes = [\"de-DE\", \"fr-FR\", \"en-US\"]\n",
    "\n",
    "for lc in wanted_language_codes:\n",
    "    voices = polly.describe_voices(Engine=\"neural\", LanguageCode=lc)[\"Voices\"]\n",
    "    for voice in voices:\n",
    "        test_text = f\"Hello! My name is {voice['Id']}. I'm testing the AWS Polly speech synthesis in {voice['LanguageName']}. It's a pleasure to work with you today.\"\n",
    "        get_audio(f\"_Voice-{voice['LanguageCode']}-{voice['Id']}\", test_text, voice['Id'], lc)"
   ]
  },
  {
   "cell_type": "markdown",
   "metadata": {
    "collapsed": false,
    "pycharm": {
     "name": "#%% md\n"
    }
   },
   "source": [
    "## Create audios"
   ]
  },
  {
   "cell_type": "code",
   "execution_count": null,
   "metadata": {
    "pycharm": {
     "name": "#%%\n"
    }
   },
   "outputs": [],
   "source": [
    "# Map sentence language codes to AWS language codes\n",
    "language_code_map = {\"DE\": \"de-DE\", \"EN\": \"en-US\", \"FR\": \"fr-FR\", \"UK\": None}\n",
    "\n",
    "df_sentences = pd.read_csv(\"data-import/exercise-import.tsv\", sep=\"\\t\")\n",
    "\n",
    "for _, row in tqdm(df_sentences.iterrows(), total=len(df_sentences)):\n",
    "    # if language_code_map[row.source_language] is not None:\n",
    "    #     get_audio(filename=f\"{row.source_language}-{row.source_sentence_id}\", text=row.source_sentence,\n",
    "    #               voice=WANTED_VOICES[row.source_language],language_code=language_code_map[row.source_language])\n",
    "    if language_code_map[row.target_language] is not None:\n",
    "        get_audio(filename=f\"{row.target_language}-{row.target_sentence_id}\", text=row.target_sentence,\n",
    "                  voice=WANTED_VOICES[row.target_language], language_code=language_code_map[row.target_language])"
   ]
  },
  {
   "cell_type": "code",
   "execution_count": null,
   "metadata": {
    "pycharm": {
     "name": "#%%\n"
    }
   },
   "outputs": [],
   "source": []
  }
 ],
 "metadata": {
  "kernelspec": {
   "display_name": "Python 3",
   "language": "python",
   "name": "python3"
  },
  "language_info": {
   "codemirror_mode": {
    "name": "ipython",
    "version": 2
   },
   "file_extension": ".py",
   "mimetype": "text/x-python",
   "name": "python",
   "nbconvert_exporter": "python",
   "pygments_lexer": "ipython2",
   "version": "2.7.6"
  }
 },
 "nbformat": 4,
 "nbformat_minor": 0
}
